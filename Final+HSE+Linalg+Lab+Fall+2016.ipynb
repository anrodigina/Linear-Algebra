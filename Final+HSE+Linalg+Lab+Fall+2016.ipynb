{
 "cells": [
  {
   "cell_type": "markdown",
   "metadata": {},
   "source": [
    "# Линейная алгебра. Лабораторная работа 1, осень 2016"
   ]
  },
  {
   "cell_type": "markdown",
   "metadata": {},
   "source": [
    "В этой лабораторной работе вы познакомитесь со средой Jupyter Notebook и библиотеками numpy и scipy."
   ]
  },
  {
   "cell_type": "markdown",
   "metadata": {},
   "source": [
    "## Часть 1. Библиотеки"
   ]
  },
  {
   "cell_type": "markdown",
   "metadata": {},
   "source": [
    "В этой лабораторной работе вам понадобятся три библиотеки:\n",
    "\n",
    "- `numpy` - основная библиотека для работы с матрицами;\n",
    "- `scipy`, а точнее модуль `scipy.linalg`, содержащий множество функций линейной алгебры;\n",
    "- `matplotlib` - графическая библиотека\n",
    "\n",
    "Подключить их можно следующим образом:"
   ]
  },
  {
   "cell_type": "code",
   "execution_count": 1,
   "metadata": {
    "collapsed": true
   },
   "outputs": [],
   "source": [
    "# Запустите этот код\n",
    "import numpy as np\n",
    "\n",
    "import scipy.linalg as sla\n",
    "\n",
    "import matplotlib.pyplot as plt\n",
    "%matplotlib inline"
   ]
  },
  {
   "cell_type": "markdown",
   "metadata": {},
   "source": [
    "Теперь вы можете позвать, скажем, функцию `scipy.linalg.det()` с помощью кода `sla.det()`, а функцию `numpy.exp()` - с помощью кода `np.exp()`."
   ]
  },
  {
   "cell_type": "markdown",
   "metadata": {},
   "source": [
    "**Основные объекты и операции линейной алгебры в NumPy и SciPy:**"
   ]
  },
  {
   "cell_type": "markdown",
   "metadata": {},
   "source": [
    "Основной объект, с которым вам придётся работать и в этой, и в следующих лабораторных - это, безусловно, матрицы. В библиотеке `numpy` они представлены классом `numpy.ndarray`. Матрицу можно создать из двумерного (а на самом деле и не только двумерного) массива следующим образом:"
   ]
  },
  {
   "cell_type": "code",
   "execution_count": 2,
   "metadata": {
    "collapsed": false
   },
   "outputs": [
    {
     "name": "stdout",
     "output_type": "stream",
     "text": [
      "[[1 2 3]\n",
      " [4 5 6]]\n",
      "(2, 3)\n"
     ]
    }
   ],
   "source": [
    "# Запустите этот код\n",
    "A = np.array([[1, 2, 3], [4, 5, 6]])\n",
    "\n",
    "print(A)\n",
    "print(A.shape) # пара (число строк, число столбцов)"
   ]
  },
  {
   "cell_type": "markdown",
   "metadata": {},
   "source": [
    "Обратите внимание, что матрица заполняется *по строкам*.\n",
    "\n",
    "Есть и много других конструкторов матриц. Например, единичная матрица размера $n\\times n$ создаётся с помощью функции `numpy.eye(n)`. Со всем многообразием конструкторов можно ознакомиться [на этой странице](https://docs.scipy.org/doc/numpy-1.10.1/reference/routines.array-creation.html)."
   ]
  },
  {
   "cell_type": "markdown",
   "metadata": {},
   "source": [
    "Зачастую бывает нужно получить доступ к подматрицам данной матрицы, и numpy предоставляет множество удобных средств, как это сделать (называется slicing):\n",
    "- элемент с номером `(i,j)`: `A[i,j]`\n",
    "- i-я строка матрицы: `A[i,:]`\n",
    "- j-й столбец матрицы: `A[:,j]`\n",
    "\n",
    "**Внимание!** Оба варианта, и `A[i,:]`, и `A[:,j]` дают не строку или столбец, а одномерный вектор. Если вы хотите получить вектор-строку или вектор-столбец соответственно, используйте вот такой синтаксис: `A[i:i+1,:]`, и `A[:,j:j+1]`\n",
    "- строки с нулевой по i-ю: `A[:i+1,:]`\n",
    "- столбцы с j-го по последний: `A[:,j:]`\n",
    "- строки с i-й по k-ю: `A[i:k,:]`"
   ]
  },
  {
   "cell_type": "markdown",
   "metadata": {},
   "source": [
    "*Умножение матриц* производится с помощью оператора `np.dot()`. Есть два варианта написания: `A.dot(B)` и `np.dot(A, B)`.\n",
    "\n",
    "Обычные знаки арифметических действий (`+`, `-`, `*`) зарезервированы для поэлементных операций. Например, `A * B` - это матрица, элементами которой являются произведения $A_{ij}B_{ij}$. Помимо этих есть и множество других поэлементных операций. Например, `numpy.exp(A)` - это матрица, элементами которой являются экспоненты элементов матрицы `A`."
   ]
  },
  {
   "cell_type": "markdown",
   "metadata": {},
   "source": [
    "Чтобы получить матрицу, *транспонированную* к матрице `A`, напишите просто `A.T`. "
   ]
  },
  {
   "cell_type": "markdown",
   "metadata": {},
   "source": [
    "В некоторых случаях бывает нужно создавать *случайные матрицы*: например, при проведении экспериментов или для инициализации итеративных методов. Средства для этого предоставляет пакет [numpy.random](https://docs.scipy.org/doc/numpy/reference/routines.random.html). Так, `np.random.rand(m,n)` - это матрица $m\\times n$, элементы которой независимо выбраны из равномерного распределения на интервале `[0;1)` "
   ]
  },
  {
   "cell_type": "markdown",
   "metadata": {},
   "source": [
    "Для *решения систем линейных уравнений* в пакете `scipy.linalg` есть множество методов, рассмотрение которых выходит за пределы курса линейной алгебры. Мы вам пока предлагаем пользоваться функцией `scipy.linalg.solve`, основанной на методе Гаусса. Отметим, что `scipy.linalg.solve(A, B)` выдаёт решение уравнения $AX = B$ (или ошибку), где $B$ может быть как вектором, так и матрицей.\n",
    "\n",
    "Найти обратную матрицу для матрицы $A$ можно с помощью функции `sla.inv(A)`."
   ]
  },
  {
   "cell_type": "markdown",
   "metadata": {},
   "source": [
    "**Копирование сложных объектов в Python**"
   ]
  },
  {
   "cell_type": "markdown",
   "metadata": {},
   "source": [
    "Когда вы делаете присваивание каких-то сложных объектов, как правило оно происходит по ссылке. Например, код\n",
    "```\n",
    "B = A\n",
    "B[0,0] = 10\n",
    "```\n",
    "приведёт к изменению матрицы `A`.\n",
    "\n",
    "Не попадайтесь в эту ловушку! Если вы хотите работать с копией как с независимой матрицей, используйте метод `copy()`:\n",
    "```\n",
    "B = A.copy()\n",
    "```"
   ]
  },
  {
   "cell_type": "markdown",
   "metadata": {},
   "source": [
    "**Где искать помощь**"
   ]
  },
  {
   "cell_type": "markdown",
   "metadata": {},
   "source": [
    "Библиотеки `numpy` и `scipy` снабжены прекрасной документацией. Если у вас возникают вопросы о том, как работает та или иная функция (или даже как называется функция, выполняющая то, что вам нужно), вы почти всего можете найти там ответы.\n",
    "\n",
    "[Ссылка на документацию пакета scipy.linalg](https://docs.scipy.org/doc/scipy-0.18.1/reference/linalg.html)"
   ]
  },
  {
   "cell_type": "markdown",
   "metadata": {},
   "source": [
    "**И всё-таки задание**"
   ]
  },
  {
   "cell_type": "markdown",
   "metadata": {},
   "source": [
    "В качестве первого задания мы попросим вас отыскать соответствующие функции в библиотеке и сделать следующее:\n",
    "\n",
    "- создать нулевую матрицу $Z$ размера $3\\times4$;\n",
    "\n",
    "- создать диагональную матрицу $5\\times5$ с диагональными элементами 1, 2, 3, 4 и 5;\n",
    "\n",
    "- найти её след (не силою мысли, а с помощью библиотечных функций, конечно);\n",
    "\n",
    "- найти обратную к ней матрицу;\n",
    "\n",
    "- сгенерировать случайную матрицу $X$ $4\\times5$;\n",
    "\n",
    "- найти минор матрицы $X$, расположенный на пересечении 2 и 3 строки и 1 и 2 столбца; считаем, что строки и столбцы нумеруются с единицы (используйте slicing!);\n",
    "\n",
    "- найти произведение $X^TX$.\n",
    "\n",
    "Пожалуйста, каждый пункт делайте в новом блоке и не забывайте распечатывать результаты."
   ]
  },
  {
   "cell_type": "code",
   "execution_count": 3,
   "metadata": {
    "collapsed": false
   },
   "outputs": [
    {
     "name": "stdout",
     "output_type": "stream",
     "text": [
      "[[ 0.  0.  0.  0.]\n",
      " [ 0.  0.  0.  0.]\n",
      " [ 0.  0.  0.  0.]]\n"
     ]
    }
   ],
   "source": [
    "# создаю нулевую матрицу  ZZ  размера  3×4 ;\n",
    "Z = np.zeros((3, 4))\n",
    "print(Z)"
   ]
  },
  {
   "cell_type": "code",
   "execution_count": 61,
   "metadata": {
    "collapsed": false
   },
   "outputs": [
    {
     "name": "stdout",
     "output_type": "stream",
     "text": [
      "[[1 0 0 0 0]\n",
      " [0 2 0 0 0]\n",
      " [0 0 3 0 0]\n",
      " [0 0 0 4 0]\n",
      " [0 0 0 0 5]]\n"
     ]
    }
   ],
   "source": [
    "#создаю диагональную матрицу  5×5 с диагональными элементами 1, 2, 3, 4 и 5;\n",
    "D = np.diag([1, 2, 3, 4, 5])\n",
    "print(D)"
   ]
  },
  {
   "cell_type": "code",
   "execution_count": 5,
   "metadata": {
    "collapsed": false
   },
   "outputs": [
    {
     "name": "stdout",
     "output_type": "stream",
     "text": [
      "15\n"
     ]
    }
   ],
   "source": [
    "#нахожу её след (не силою мысли, а с помощью библиотечных функций, конечно);\n",
    "print(np.trace(D))"
   ]
  },
  {
   "cell_type": "code",
   "execution_count": 62,
   "metadata": {
    "collapsed": false,
    "scrolled": true
   },
   "outputs": [
    {
     "name": "stdout",
     "output_type": "stream",
     "text": [
      "[[ 1.          0.          0.          0.         -0.        ]\n",
      " [ 0.          0.5         0.          0.         -0.        ]\n",
      " [ 0.          0.          0.33333333  0.         -0.        ]\n",
      " [ 0.          0.          0.          0.25       -0.        ]\n",
      " [ 0.          0.          0.          0.          0.2       ]]\n"
     ]
    }
   ],
   "source": [
    "#нахожу обратную к ней матрицу;\n",
    "print(sla.inv(D))"
   ]
  },
  {
   "cell_type": "code",
   "execution_count": 7,
   "metadata": {
    "collapsed": false
   },
   "outputs": [
    {
     "name": "stdout",
     "output_type": "stream",
     "text": [
      "[[ 0.33886475  0.44259187  0.51924555  0.27045304  0.54952151]\n",
      " [ 0.50514311  0.85675998  0.71843662  0.76483352  0.83767167]\n",
      " [ 0.20388629  0.7864006   0.15156979  0.10807018  0.19035191]\n",
      " [ 0.01847928  0.96547228  0.42570476  0.46836076  0.92150109]]\n"
     ]
    }
   ],
   "source": [
    "#генерирую случайную матрицу  X   4×5 ;\n",
    "X = np.random.rand(4,5)\n",
    "print(X)"
   ]
  },
  {
   "cell_type": "code",
   "execution_count": 8,
   "metadata": {
    "collapsed": false
   },
   "outputs": [
    {
     "name": "stdout",
     "output_type": "stream",
     "text": [
      "[[ 0.50514311  0.85675998]\n",
      " [ 0.20388629  0.7864006 ]]\n",
      "0.22256323126671715\n"
     ]
    }
   ],
   "source": [
    "#нахожу минор матрицы  XX , расположенный на пересечении 2 и 3 строки и 1 и 2 столбца; \n",
    "#считаем, что строки и столбцы нумеруются с единицы\n",
    "print(X[1:3, 0:2])\n",
    "print(sla.det(X[1:3, 0:2]))"
   ]
  },
  {
   "cell_type": "code",
   "execution_count": 9,
   "metadata": {
    "collapsed": false
   },
   "outputs": [
    {
     "name": "stdout",
     "output_type": "stream",
     "text": [
      "[[ 0.41190998  0.76094272  0.57763704  0.50868638  0.66519637]\n",
      " [ 0.76094272  2.48048786  1.37554232  1.31215485  2.00027394]\n",
      " [ 0.57763704  1.37554232  0.98996505  0.90567952  1.3082896 ]\n",
      " [ 0.50868638  1.31215485  0.90567952  0.88915612  1.24146545]\n",
      " [ 0.66519637  2.00027394  1.3082896   1.24146545  1.88906583]]\n"
     ]
    }
   ],
   "source": [
    "#нахожу произведение  XT*X\n",
    "print(np.dot(X.T, X))"
   ]
  },
  {
   "cell_type": "markdown",
   "metadata": {},
   "source": [
    "## Часть 2. Время\n",
    "\n",
    "Питон мотивирует пользоваться библиотечными функциями, когда они доступны, а не писать собственные. Основной враг питониста - это циклы, которые в Питоне выполняются очень медленно. Библиотечные функции обычно пишутся на более эффективных языках, таких как C++ или Fortran, и обогнать эти решения просто так вы не сможете.\n",
    "\n",
    "Мы предлагаем вам убедиться в этом самим. Напишите функцию `my_det`, которая вычисляла бы определитель матрицы с помощью элементарных преобразований над строками. Функция должна выкидывать `ValueError` в случаях, если матрица не является квадратной."
   ]
  },
  {
   "cell_type": "code",
   "execution_count": 2,
   "metadata": {
    "collapsed": true
   },
   "outputs": [],
   "source": [
    "def replace(X, i, j):\n",
    "    X[i, :], X[j, :] = np.copy(X[j, :]), np.copy(X[i, :])\n",
    "\n",
    "\n",
    "def my_det(X):\n",
    "    det = float(1)\n",
    "    if (X.shape[0] != X.shape[1]):\n",
    "        raise ValueError\n",
    "    n = X.shape[0]\n",
    "    X = X.astype(float)\n",
    "    for column in range(0, n):\n",
    "        checker = True\n",
    "        k = column\n",
    "        row = column\n",
    "        while (row < n) and (checker):\n",
    "            if ((abs(X[row, column]) > 10.**(-9)) and checker):\n",
    "                if (row != column):\n",
    "                    det *=-1\n",
    "                replace (X, row, k)\n",
    "                checker = False\n",
    "            row += 1\n",
    "        if (checker == True):\n",
    "            return 0;\n",
    "        for row in range(k+1, n):\n",
    "            c = X[row, column] / X[column, column]\n",
    "            for j in range(column, n):\n",
    "                   X[row, j] -= X[column, j] * c\n",
    "    \n",
    "    det *= np.prod(np.diag(X))\n",
    "    return det\n"
   ]
  },
  {
   "cell_type": "markdown",
   "metadata": {},
   "source": [
    "Простая проверка:"
   ]
  },
  {
   "cell_type": "code",
   "execution_count": 27,
   "metadata": {
    "collapsed": false
   },
   "outputs": [
    {
     "name": "stdout",
     "output_type": "stream",
     "text": [
      "[[0 0 1]\n",
      " [0 1 0]\n",
      " [1 0 0]]\n",
      "-1.0\n"
     ]
    }
   ],
   "source": [
    "# Запустите этот блок кода\n",
    "X = np.array([[0,0,1], [0,1,0], [1,0,0]])\n",
    "print(X)\n",
    "print(my_det(X))"
   ]
  },
  {
   "cell_type": "markdown",
   "metadata": {},
   "source": [
    "На случай, если нам просто повезло с этой матрицей, имеет смысл написать чуть более хитрые тесты. Мы сгенерируем несколько случайных матриц $8\\times8$ с помощью функции `numpy.random.rand` и сравним ответ, выдаваемый нашей функцией, с настоящим определителем (результатом работы библиотечной функции `scipy.linalg.det`):"
   ]
  },
  {
   "cell_type": "code",
   "execution_count": 26,
   "metadata": {
    "collapsed": true
   },
   "outputs": [],
   "source": [
    "# Запустите этот блок кода\n",
    "for _ in range(10):\n",
    "    X = np.random.rand(8,8)\n",
    "    Y = np.array(X, copy = True)\n",
    "    if np.abs(my_det(X) - sla.det(Y)) > 1e-6:\n",
    "        print('FAILED')"
   ]
  },
  {
   "cell_type": "markdown",
   "metadata": {},
   "source": [
    "Если вы ни разу не получили `FAILED`, то ваша функция работает правильно."
   ]
  },
  {
   "cell_type": "markdown",
   "metadata": {},
   "source": [
    "Теперь давайте сравним скорость работы вашей функции и библиотечной функции `scipy.linalg.det`. В Питоне есть несколько способов измерения времени; мы воспользуемся декоратором `%timeit`. Будучи написан перед функцией, он запускает её некоторое количество раз, выбирает три случайных запуска и возвращает длительность самого быстрого из них. Модификатор `-o` между декоратором и функцией позволяет сохранять результаты работы декоратора в переменную.\n",
    "\n",
    "Приготовьтесь, что следующий блок может работать сравнительно долго."
   ]
  },
  {
   "cell_type": "code",
   "execution_count": 78,
   "metadata": {
    "collapsed": false
   },
   "outputs": [
    {
     "name": "stdout",
     "output_type": "stream",
     "text": [
      "The slowest run took 5549.44 times longer than the fastest. This could mean that an intermediate result is being cached.\n",
      "1 loop, best of 3: 65.9 µs per loop\n",
      "1000 loops, best of 3: 297 µs per loop\n",
      "The slowest run took 2295.32 times longer than the fastest. This could mean that an intermediate result is being cached.\n",
      "1 loop, best of 3: 185 µs per loop\n",
      "1 loop, best of 3: 200 ms per loop\n",
      "10 loops, best of 3: 27.9 ms per loop\n",
      "1 loop, best of 3: 3min 22s per loop\n"
     ]
    },
    {
     "data": {
      "text/plain": [
       "<matplotlib.legend.Legend at 0x1f6f2d7ea58>"
      ]
     },
     "execution_count": 78,
     "metadata": {},
     "output_type": "execute_result"
    },
    {
     "data": {
      "image/png": "[encoded data removed]",
      "text/plain": [
       "<matplotlib.figure.Figure at 0x1f6f2ceb860>"
      ]
     },
     "metadata": {},
     "output_type": "display_data"
    }
   ],
   "source": [
    "# Запустите этот блок кода\n",
    "lib_times = []\n",
    "my_times = []\n",
    "dimensions = [10, 100, 1000]\n",
    "for dim in dimensions:\n",
    "    A = np.random.rand(dim, dim)\n",
    "    res_lib = %timeit -o sla.det(A)\n",
    "    lib_times.append(res_lib.best)\n",
    "    res_my = %timeit -o my_det(A)\n",
    "    my_times.append(res_my.best)    \n",
    "\n",
    "plt.plot(dimensions, lib_times, color='blue', label='Library function')\n",
    "plt.plot(dimensions, my_times, color='red', label='My function')\n",
    "plt.title('My function vs library function, log y scale')\n",
    "plt.ylabel('Time')\n",
    "plt.xlabel('Matrix dimension')\n",
    "plt.legend()"
   ]
  },
  {
   "cell_type": "markdown",
   "metadata": {},
   "source": [
    "У вас должны были получиться графики, показывающие, как растёт с ростом размерности матрицы время вычисления определителя. Поскольку они вышли не больно-то красивыми, мы нарисуем их в *логарифмическом масштабе* по оси у:"
   ]
  },
  {
   "cell_type": "code",
   "execution_count": 33,
   "metadata": {
    "collapsed": false
   },
   "outputs": [
    {
     "data": {
      "text/plain": [
       "<matplotlib.legend.Legend at 0x25f05ef5198>"
      ]
     },
     "execution_count": 33,
     "metadata": {},
     "output_type": "execute_result"
    },
    {
     "data": {
      "image/png": "[encoded data removed]",
      "text/plain": [
       "<matplotlib.figure.Figure at 0x25f05d78550>"
      ]
     },
     "metadata": {},
     "output_type": "display_data"
    }
   ],
   "source": [
    "# Запустите этот блок кода\n",
    "plt.semilogy(dimensions, lib_times, color='blue', label='Library function')\n",
    "plt.semilogy(dimensions, my_times, color='red', label='My function')\n",
    "plt.title('My function vs library function, log y scale')\n",
    "plt.ylabel('Time')\n",
    "plt.xlabel('Matrix dimension')\n",
    "plt.legend()"
   ]
  },
  {
   "cell_type": "markdown",
   "metadata": {},
   "source": [
    "Вы можете убедиться, что библиотечная функция работает *гораздо* быстрее."
   ]
  },
  {
   "cell_type": "markdown",
   "metadata": {},
   "source": [
    "## Часть 3. Точность\n",
    "\n",
    "Наверняка вы уже что-то знаете про floating point arithmetics и связанные с этим трудности и понимаете, что на компьютере вычисления с вещественными числами производятся лишь с ограниченной точностью. "
   ]
  },
  {
   "cell_type": "markdown",
   "metadata": {},
   "source": [
    "В качестве первого примера, показывающего различие между длинной арифметикой целых чисел и floating point arithmetics, предлагаем вам перемножить две пары матриц:\n",
    "\n",
    "$$\n",
    "\\begin{pmatrix}\n",
    "1 & 0\\\\\n",
    "10^{20} & 1\n",
    "\\end{pmatrix}\n",
    "\\cdot\n",
    "\\begin{pmatrix}\n",
    "10^{-20} & 1\\\\\n",
    "0 & 1 - 10^{20}\n",
    "\\end{pmatrix}\n",
    "$$\n",
    "и\n",
    "$$\n",
    "\\begin{pmatrix}\n",
    "1. & 0.\\\\\n",
    "10.^{20} & 1.\n",
    "\\end{pmatrix}\n",
    "\\cdot\n",
    "\\begin{pmatrix}\n",
    "10.^{-20} & 1.\\\\\n",
    "0. & 1. - 10.^{20}\n",
    "\\end{pmatrix}\n",
    "$$\n",
    "Во втором случае мы специально указали Питону (поставив везде десятичные точки), что хотим работать не с целыми числами, а с числами с плавающей точкой. Посмотрим, получатся ли одинаковые ответы:"
   ]
  },
  {
   "cell_type": "code",
   "execution_count": 10,
   "metadata": {
    "collapsed": false
   },
   "outputs": [
    {
     "name": "stdout",
     "output_type": "stream",
     "text": [
      "[[1e-20 1]\n",
      " [1.0 1]]\n",
      "[[  1.00000000e-20   1.00000000e+00]\n",
      " [  1.00000000e+00   0.00000000e+00]]\n"
     ]
    }
   ],
   "source": [
    "A = np.array([[1, 0],[10**20, 1]])\n",
    "C = np.array([[1., 0.],[10.**20, 1.]])\n",
    "B = np.array([[10**(-20),1], [0, 1-10**20]])\n",
    "D = np.array([[10.**(-20),1.], [0., 1.-10.**20]])\n",
    "print(np.dot(A, B))\n",
    "print(np.dot(C, D))"
   ]
  },
  {
   "cell_type": "markdown",
   "metadata": {},
   "source": [
    "И какой из них правильный?\n",
    "\n",
    "---\n",
    "Первый вариант правильный, это я проверила вручную"
   ]
  },
  {
   "cell_type": "markdown",
   "metadata": {},
   "source": [
    "Впрочем, и с целыми числами тоже не всегда всё хорошо. Напишите функцию, генерирующую *матрицу Паскаля* заданной размерности $n$, то есть матрицу $P$, в которой $P_{ij} = C_{i+j}^i$. В этом задании нельзя пользоваться библиотечной функцией `scipy.linalg.pascal` или её аналогами из других библиотек. Обратите внимание, что использование факториалов крайне нежелательно, так как быстро приведёт к переполнению."
   ]
  },
  {
   "cell_type": "code",
   "execution_count": 7,
   "metadata": {
    "collapsed": false
   },
   "outputs": [
    {
     "name": "stdout",
     "output_type": "stream",
     "text": [
      "[[   1.    1.    1.    1.    1.    1.    1.]\n",
      " [   1.    2.    3.    4.    5.    6.    7.]\n",
      " [   1.    3.    6.   10.   15.   21.   28.]\n",
      " [   1.    4.   10.   20.   35.   56.   84.]\n",
      " [   1.    5.   15.   35.   70.  126.  210.]\n",
      " [   1.    6.   21.   56.  126.  252.  462.]\n",
      " [   1.    7.   28.   84.  210.  462.  924.]]\n"
     ]
    }
   ],
   "source": [
    "def my_pascal(dim):\n",
    "    P = np.zeros((dim, dim))\n",
    "    #P = P.astype(int)\n",
    "    for i in range(0, dim):\n",
    "        for j in range (0, dim):\n",
    "            if (j == 0) | (i == 0):\n",
    "                P[i][j] = 1\n",
    "            else:\n",
    "                P[i][j] = P[i-1][j]+P[i][j-1]\n",
    "    return P\n",
    "# Для проверки выведу матрицу Паскаля 5 на 5\n",
    "print(my_pascal(7))"
   ]
  },
  {
   "cell_type": "markdown",
   "metadata": {},
   "source": [
    "Чему равен её определитель на самом деле?\n",
    "\n",
    "----\n",
    "Ее определитель равен 1, тк:\n",
    "Матрица Паскаля равна произведению двух матриц, одна из которых верхнетреугольная, а другая нижнетреугольная, и их определитель равен 1, соответственно и определитель исходной матрицы равен 1 \n",
    "\n",
    "-------\n",
    "Эту матрицу можно привести к верхнетреугольной таким образом:\n",
    "Проводим над матрицей следующие действия, \n",
    "от 2 строки отнимаем 1 строку, умноженную на 1; от 3 строки отнимаем 1 строку, умноженную на 1; от 4 строки отнимаем 1 строку, умноженную на 1 и т. д.\n",
    "от 3 строки отнимаем 2 строку, умноженную на 2; от 4 строки отнимаем 2 строку, умноженную на 3 и т. д.\n",
    "И так далее\n",
    "В итоге получаем верхнетреугольную матрицу, на диагонали которой будут единицы, а сам вер[ний треугольник будет треугольником паскаля(перевернутым)\n",
    "Получаем, что определитель равен 1"
   ]
  },
  {
   "cell_type": "markdown",
   "metadata": {},
   "source": [
    "А теперь вычислите определитель матрицы Паскаля $30\\times30$ с помощью библиотечной функции `scipy.linalg.det`:"
   ]
  },
  {
   "cell_type": "code",
   "execution_count": 116,
   "metadata": {
    "collapsed": false
   },
   "outputs": [
    {
     "name": "stdout",
     "output_type": "stream",
     "text": [
      "-1.660248347384894e+48\n"
     ]
    }
   ],
   "source": [
    "M = my_pascal(30)\n",
    "print(sla.det(M))"
   ]
  },
  {
   "cell_type": "markdown",
   "metadata": {},
   "source": [
    "Разница заметна невооружённым взглядом!"
   ]
  },
  {
   "cell_type": "markdown",
   "metadata": {},
   "source": [
    "## Часть 4. Матричные вычисления"
   ]
  },
  {
   "cell_type": "markdown",
   "metadata": {},
   "source": [
    "Вы уже видели, что писать вычисления с циклами неправильно, и важно уметь находить способы делать всё библиотечными средствами.\n",
    "\n",
    "В качестве примера рассмотрим две задачи:\n",
    "\n",
    "**1.** Предположим, нужно вычислить суммы элементов в каждой строке матрицы `A`. Ясно, что можно написать простую функцию с двумя циклами, которая это посчитает, но так лучше не делать. Правильный способ такой:\n",
    "```\n",
    "A.sum(axis=1)\n",
    "```\n",
    "Параметр `axis=1` означает, что суммы берутся по строкам. Если вы хотите просуммировать по столбцам, укажите `axis=0`. Если вообще пропустить параметр `axis` (вызвать `A.sum()`), то функция вернёт сумму *всех* элементов матрицы.\n",
    "\n",
    "**2.** Теперь допустим, что нам нужно каждый столбец матрицы `A` нужно умножить на некоторое число. Более точно, пусть у нас есть (одномерный) вектор `w = np.array([w_1,...,w_n])`, и мы должны `i`-й столбец `A` умножить на число `w_i`. Опять же, это можно сделать в пару циклов, но лучше использовать операцию поэлементного умножения:\n",
    "```\n",
    "A * w.reshape((1,n))\n",
    "```\n",
    "Оператор `reshape` нужен для того, чтобы из одномерного вектора сделать вектор-строку.\n",
    "\n",
    "Аналогично если на числа `w_1,...,w_n` умножаются *строки* матрицы, нужно превратить `w` в вектор-столбец:\n",
    "```\n",
    "A * w.reshape((n,1))\n",
    "```"
   ]
  },
  {
   "cell_type": "markdown",
   "metadata": {},
   "source": [
    "Дальше вам будет предложено попрактиковаться в матричных вычислениях. В следующих трёх заданиях нельзя пользоваться циклами; вместо этого постарайтесь свести всё к библиотечным функциям. Чтобы убедиться, что получилось именно то, что нужно, пишите собственные тесты со случайными матрицами."
   ]
  },
  {
   "cell_type": "markdown",
   "metadata": {},
   "source": [
    "**Задание 4.1** Напишите функцию `prod_and_sq_sum(A)`, вычисляющую произведение и сумму квадратов диагональных элементов квадратной матрицы `A`."
   ]
  },
  {
   "cell_type": "code",
   "execution_count": 10,
   "metadata": {
    "collapsed": false
   },
   "outputs": [],
   "source": [
    "def prod_and_sq_sum(A):\n",
    "    multiplication = np.prod(np.diag(A*A))\n",
    "    summation = sum(np.diag(A*A))\n",
    "    return multiplication , summation\n",
    "\n",
    "for _ in range(10):\n",
    "    A = np.random.rand(8, 8)\n",
    "    true_prod = np.prod(np.diag(A)**2)\n",
    "    true_sq_sum = np.sum(np.diag(A) ** 2)\n",
    "    prod, sq_sum = prod_and_sq_sum(A)\n",
    "    if np.abs(true_prod - prod) > 1e-6 or np.abs(true_sq_sum - sq_sum) > 1e-6:\n",
    "        raise ValueError()"
   ]
  },
  {
   "cell_type": "code",
   "execution_count": 124,
   "metadata": {
    "collapsed": false
   },
   "outputs": [
    {
     "name": "stdout",
     "output_type": "stream",
     "text": [
      "[[8 0 1]\n",
      " [0 3 0]\n",
      " [1 0 0]]\n",
      "0 73\n",
      "[[ 0.13562044  0.47647119  0.11420775  0.47419467]\n",
      " [ 0.78741018  0.31842735  0.17121324  0.09750992]\n",
      " [ 0.23474479  0.88618974  0.56640851  0.82355118]\n",
      " [ 0.93148735  0.74933314  0.87988692  0.71599405]]\n",
      "0.000306725169745 0.953254952275\n"
     ]
    }
   ],
   "source": [
    "# Протестируем\n",
    "X = np.array([[8,0,1], [0,3,0], [1,0,0]])\n",
    "print(X)\n",
    "print( prod_and_sq_sum(X)[0], prod_and_sq_sum(X)[1])\n",
    "X = np.random.rand(4,4)\n",
    "print(X)\n",
    "print( prod_and_sq_sum(X)[0], prod_and_sq_sum(X)[1])"
   ]
  },
  {
   "cell_type": "markdown",
   "metadata": {},
   "source": [
    "**Задание 4.2** Для матриц `A` и `B` размера $m\\times n$ обозначим через $a_1,\\ldots,a_m$ и $b_1,\\ldots,b_m$ соответственно их столбцы. Напишите функцию `f(k)`, вычисляющую\n",
    "\n",
    "$$\\sum_{i=1}^{\\min(k,m)}a_ib_i^T$$"
   ]
  },
  {
   "cell_type": "code",
   "execution_count": 15,
   "metadata": {
    "collapsed": false
   },
   "outputs": [],
   "source": [
    "def f(k, A, B):\n",
    "    if (A.shape[0] != B.shape[0]) or (A.shape[1] != B.shape[1]):\n",
    "         raise ValueError\n",
    "    minMK = min(A.shape[0], k);\n",
    "    return A[:, 0:minMK].dot(B[:, 0:minMK].T)"
   ]
  },
  {
   "cell_type": "code",
   "execution_count": 18,
   "metadata": {
    "collapsed": false
   },
   "outputs": [],
   "source": [
    "for _ in range(10):\n",
    "    A = np.random.rand(8, 8)\n",
    "    B = np.random.rand(8, 8)\n",
    "    true_res = A[:,:5].dot(B.T[:5,:])\n",
    "    res = f(k=5, A=A, B=B)\n",
    "    if sla.norm(true_res - res) > 1e-6:\n",
    "        raise ValueError()\n"
   ]
  },
  {
   "cell_type": "markdown",
   "metadata": {},
   "source": [
    "**Задание 4.3** Напишите функцию `get_diag(A,B)`, принимающую две матрицы `A` и `B` и возвращающую вектор диагональных элементов произведения `AB`, не вычисляя произведение целиком. "
   ]
  },
  {
   "cell_type": "code",
   "execution_count": 19,
   "metadata": {
    "collapsed": true
   },
   "outputs": [],
   "source": [
    "def get_diag(A,B):\n",
    "    R = A*B.T\n",
    "    return R.sum(axis=1)"
   ]
  },
  {
   "cell_type": "code",
   "execution_count": 22,
   "metadata": {
    "collapsed": false
   },
   "outputs": [],
   "source": [
    "for _ in range(10):\n",
    "    A = np.random.rand(8, 7)\n",
    "    B = np.random.rand(7, 8)\n",
    "    true_res = (A * B.T).sum(axis=1)\n",
    "    res = get_diag(A,B)\n",
    "    if sla.norm(true_res - res) > 1e-6:\n",
    "        raise ValueError()"
   ]
  },
  {
   "cell_type": "markdown",
   "metadata": {},
   "source": [
    "## Бонус. Метод Гаусса или обратные матрицы?"
   ]
  },
  {
   "cell_type": "markdown",
   "metadata": {},
   "source": [
    "Пусть нам дано матричное уравнение $Ax = B$, где $A$ --- матрица размера $n\\times n$, а $B$ --- матрица размера $n\\times m$ (отметим, что это уравнение можно интерпретировать как $m$ систем с векторными правыми частями и однаковыми левыми). Вообще говоря, методов решения таких уравнений очень много, но мы пока рассмотрим два из них, с которыми вы уже хорошо знакомы.\n",
    "1. Метод Гаусса;\n",
    "2. Умножение на обратную матрицу: $x = A^{-1}B$.\n",
    "\n",
    "В этом задании вы попробуете ответить на вопрос о том, какой из этих методов эффективнее. Проведите два эксперимента:\n",
    "- сравните скорости решения системы при фиксированном `m = 10` и `n`, изменяющемся в пределах от 10 до 1000, например, для `n=10, 50, 100, 200, 500, 1000` (рост числа неизвестных при фиксированном количестве правых частей);\n",
    "- сравните скорости решения системы при фиксированном `n = 100` и `m`, меняющемся от 10 до 10000, например, для `m = 10, 100, 500, 1000, 2000, 5000, 10000` (рост числа правых частей при фиксированном числе неизвестных).\n",
    "\n",
    "Эксперименты проведите на случайных матрицах, созданных с помощью функции `numpy.random.rand`. Постройте графики времени выполнения функции от размерности (лучше в логарифмическом масштабе). Сделайте выводы (в письменном виде!) о том, какой их методов оказывается лучше в каких обстоятельствах.\n",
    "\n",
    "Чтобы всё это не казалось вам чёрной магией, найдите число операций (суммарно сложения, умножения и деления), необходимых для решения системы каждым из методов. Обратите внимания на члены степени 3 (члены меньшего порядка можете даже не считать). Постарайтесь объяснить полученные ранее результаты."
   ]
  },
  {
   "cell_type": "code",
   "execution_count": 121,
   "metadata": {
    "collapsed": false
   },
   "outputs": [
    {
     "name": "stdout",
     "output_type": "stream",
     "text": [
      "10000 loops, best of 3: 58 µs per loop\n",
      "The slowest run took 4.43 times longer than the fastest. This could mean that an intermediate result is being cached.\n",
      "10000 loops, best of 3: 81.6 µs per loop\n",
      "The slowest run took 1038.74 times longer than the fastest. This could mean that an intermediate result is being cached.\n",
      "10000 loops, best of 3: 118 µs per loop\n",
      "10000 loops, best of 3: 160 µs per loop\n",
      "1000 loops, best of 3: 228 µs per loop\n",
      "The slowest run took 139.30 times longer than the fastest. This could mean that an intermediate result is being cached.\n",
      "1000 loops, best of 3: 383 µs per loop\n",
      "1000 loops, best of 3: 658 µs per loop\n",
      "The slowest run took 62.05 times longer than the fastest. This could mean that an intermediate result is being cached.\n",
      "1000 loops, best of 3: 1.15 ms per loop\n",
      "100 loops, best of 3: 5.23 ms per loop\n",
      "100 loops, best of 3: 9.54 ms per loop\n",
      "10 loops, best of 3: 31.1 ms per loop\n",
      "10 loops, best of 3: 62.1 ms per loop\n"
     ]
    },
    {
     "data": {
      "text/plain": [
       "<matplotlib.legend.Legend at 0x1f6f2cfb588>"
      ]
     },
     "execution_count": 121,
     "metadata": {},
     "output_type": "execute_result"
    },
    {
     "data": {
      "image/png": "[encoded data removed]",
      "text/plain": [
       "<matplotlib.figure.Figure at 0x1f6f3677fd0>"
      ]
     },
     "metadata": {},
     "output_type": "display_data"
    }
   ],
   "source": [
    "# Первый эксперимент\n",
    "gauss_times = []\n",
    "inv_times = []\n",
    "dimensions = [10, 50, 100, 200, 500, 1000]\n",
    "for dim in dimensions:\n",
    "    A = np.random.rand(dim, dim)\n",
    "    B = np.random.rand(dim, 10)\n",
    "    res_gauss = %timeit -o sla.solve(A,B)\n",
    "    gauss_times.append(res_gauss.best)\n",
    "    res_inv = %timeit -o sla.inv(A).dot(B)\n",
    "    inv_times.append(res_inv.best)    \n",
    "\n",
    "plt.plot(dimensions, gauss_times, color='blue', label='Gaussian function')\n",
    "plt.plot(dimensions, inv_times, color='red', label='Inv.multiplication function')\n",
    "plt.title('Inv.multiplication vs Gaussian function, log y scale')\n",
    "plt.ylabel('Time')\n",
    "plt.xlabel('Matrix dimension')\n",
    "plt.legend()"
   ]
  },
  {
   "cell_type": "markdown",
   "metadata": {},
   "source": [
    "При первом эксперименте мы видим, что метод Гаусса работает быстрее\n",
    "Заметим, что матрица $В$, по сравнению с $А$, гораздо меньше. Т.е. при приведении $А$ к единичной матрице в:\n",
    "$(А|В)$ нам требуется гораздо меньше усилий(действий) для изменения $В$: $n^2 \\cdot m$\n",
    "При вычислении $А^{-1}$, мы будем работать с\n",
    "$(А|Е)$, где размер $Е$ значительно превышает $В$ в предыдущем варианте, что соответственно займет больше времени:\n",
    "$n^3$, потом еще вычисляется произведение за $n^2 \\cdot m$,"
   ]
  },
  {
   "cell_type": "code",
   "execution_count": 132,
   "metadata": {
    "collapsed": false
   },
   "outputs": [
    {
     "name": "stdout",
     "output_type": "stream",
     "text": [
      "1000 loops, best of 3: 258 µs per loop\n",
      "1000 loops, best of 3: 382 µs per loop\n",
      "1000 loops, best of 3: 360 µs per loop\n",
      "1000 loops, best of 3: 414 µs per loop\n",
      "1000 loops, best of 3: 1.06 ms per loop\n",
      "1000 loops, best of 3: 589 µs per loop\n",
      "1000 loops, best of 3: 1.85 ms per loop\n",
      "1000 loops, best of 3: 793 µs per loop\n",
      "100 loops, best of 3: 4.14 ms per loop\n",
      "100 loops, best of 3: 1.77 ms per loop\n",
      "100 loops, best of 3: 10.3 ms per loop\n",
      "100 loops, best of 3: 4.34 ms per loop\n",
      "10 loops, best of 3: 21.1 ms per loop\n",
      "100 loops, best of 3: 8.56 ms per loop\n"
     ]
    },
    {
     "data": {
      "text/plain": [
       "<matplotlib.legend.Legend at 0x1f6f47bd470>"
      ]
     },
     "execution_count": 132,
     "metadata": {},
     "output_type": "execute_result"
    },
    {
     "data": {
      "image/png": "[encoded data removed]",
      "text/plain": [
       "<matplotlib.figure.Figure at 0x1f6f437b198>"
      ]
     },
     "metadata": {},
     "output_type": "display_data"
    }
   ],
   "source": [
    "# Второй эксперимент\n",
    "gauss2_times = []\n",
    "inv2_times = []\n",
    "dimensions = [10, 100, 500, 1000, 2000, 5000, 10000]\n",
    "for dim in dimensions:\n",
    "    A = np.random.rand(100, 100)\n",
    "    B = np.random.rand(100, dim)\n",
    "    res2_gauss = %timeit -o sla.solve(A,B)\n",
    "    gauss2_times.append(res2_gauss.best)\n",
    "    res2_inv = %timeit -o sla.inv(A).dot(B)\n",
    "    inv2_times.append(res2_inv.best)    \n",
    "\n",
    "plt.plot(dimensions, gauss2_times, color='blue', label='Gaussian function')\n",
    "plt.plot(dimensions, inv2_times, color='red', label='Inv.multiplication function')\n",
    "plt.title('Inv.multiplication vs Gaussian function, log y scale')\n",
    "plt.ylabel('Time')\n",
    "plt.xlabel('Matrix dimension')\n",
    "plt.legend()"
   ]
  },
  {
   "cell_type": "markdown",
   "metadata": {},
   "source": [
    "Во втором же эксперименте гораздо быстрее работает способ с обратной матрицей, т. к. преобразовывать параллельно А матрицу В гораздо затратнее по времени и действиям из-за размера В:\n",
    "\n",
    "   Обратная матрица + умножение: $n^3 + n^2 \\cdot m$, \n",
    "    \n",
    "   Гаусс: $\\frac{4 \\cdot (n^2 \\cdot m)}{2}$\n",
    "   * коэффициент 4 берется из дублирования размера матрицы при методе Гаусса (исходная матрица становится в два раза шире) "
   ]
  }
 ],
 "metadata": {
  "anaconda-cloud": {},
  "kernelspec": {
   "display_name": "Python 2",
   "language": "python",
   "name": "python2"
  },
  "language_info": {
   "codemirror_mode": {
    "name": "ipython",
    "version": 2
   },
   "file_extension": ".py",
   "mimetype": "text/x-python",
   "name": "python",
   "nbconvert_exporter": "python",
   "pygments_lexer": "ipython2",
   "version": "2.7.6"
  }
 },
 "nbformat": 4,
 "nbformat_minor": 0
}
